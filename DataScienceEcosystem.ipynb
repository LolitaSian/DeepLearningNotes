{
  "cells": [
    {
      "cell_type": "markdown",
      "metadata": {
        "id": "view-in-github",
        "colab_type": "text"
      },
      "source": [
        "<a href=\"https://colab.research.google.com/github/LolitaSian/DeepLearningNotes/blob/master/DataScienceEcosystem.ipynb\" target=\"_parent\"><img src=\"https://colab.research.google.com/assets/colab-badge.svg\" alt=\"Open In Colab\"/></a>"
      ]
    },
    {
      "cell_type": "markdown",
      "source": [
        "# Data Science Tools and Ecosystem"
      ],
      "metadata": {
        "id": "2wl1vRMT19f1"
      }
    },
    {
      "cell_type": "markdown",
      "source": [
        "In this notebook, Data Science Tools and Ecosystem are summarized."
      ],
      "metadata": {
        "id": "bZk1Hfc01-Sv"
      }
    },
    {
      "cell_type": "markdown",
      "source": [
        "Some of the popular languages that Data Scientists use are:\n",
        "1. python\n",
        "2. R\n",
        "3. Java\n",
        "4. SQL\n",
        "5. Sacla\n",
        "6. C++\n",
        "7. Julia\n"
      ],
      "metadata": {
        "id": "2ynPBZSp1-YA"
      }
    },
    {
      "cell_type": "markdown",
      "source": [
        "Some of the commonly used libraries used by Data Scientists include:\n",
        "1. NumPy\n",
        "2. Pandas\n",
        "3. Matplotlib\n",
        "4. ..."
      ],
      "metadata": {
        "id": "FgRgwmEV1-gr"
      }
    },
    {
      "cell_type": "markdown",
      "source": [
        "Some of the commonly used libraries used by Data Scientists include:\n",
        "\n",
        "|Data Science Tools|\n",
        "|----|\n",
        "|Jupyter Notebook|\n",
        "|RStudio|\n",
        "|VS Code|\n",
        "|...|"
      ],
      "metadata": {
        "id": "B6VuEPpp227I"
      }
    },
    {
      "cell_type": "markdown",
      "source": [
        "### Below are a few examples of evaluating arithmetic expressions in Python"
      ],
      "metadata": {
        "id": "Q68bHQWt3Ub1"
      }
    },
    {
      "cell_type": "code",
      "source": [
        "#  This a simple arithmetic expression to mutiply then add integers\n",
        "res = (3*4)+5\n",
        "res"
      ],
      "metadata": {
        "colab": {
          "base_uri": "https://localhost:8080/"
        },
        "id": "lv2Yatt73ydY",
        "outputId": "937ae3f0-dcd2-42e6-ca5d-67cfd77f2756"
      },
      "execution_count": 13,
      "outputs": [
        {
          "output_type": "execute_result",
          "data": {
            "text/plain": [
              "17"
            ]
          },
          "metadata": {},
          "execution_count": 13
        }
      ]
    },
    {
      "cell_type": "code",
      "source": [
        "# This will convert 200 minutes to hours by dividing by 60.\n",
        "minutes = 200\n",
        "hours = minutes / 60\n",
        "hours"
      ],
      "metadata": {
        "colab": {
          "base_uri": "https://localhost:8080/"
        },
        "id": "GoFOu-cm4B5N",
        "outputId": "621e4c1b-6bfb-4a7b-d0b5-094cf593a86f"
      },
      "execution_count": 14,
      "outputs": [
        {
          "output_type": "execute_result",
          "data": {
            "text/plain": [
              "3.3333333333333335"
            ]
          },
          "metadata": {},
          "execution_count": 14
        }
      ]
    },
    {
      "cell_type": "markdown",
      "source": [
        "#### Objectives:\n",
        "\n",
        "- List popular languages for Data Science.\n",
        "- Describe commonly used libraries in Data Science.\n",
        "- Introduce essential tools for Data Scientists, including Jupyter Notebook and its variants.\n",
        "- Explain basic arithmetic operations and conversions frequently used in Data Science tasks.\n",
        "- Demonstrate sharing notebooks through platforms like GitHub."
      ],
      "metadata": {
        "id": "QeUVmgH64San"
      }
    },
    {
      "cell_type": "markdown",
      "source": [
        "## Author\n",
        "Sian Liu"
      ],
      "metadata": {
        "id": "zvp5Yoct4ovL"
      }
    }
  ],
  "metadata": {
    "colab": {
      "provenance": [],
      "gpuType": "T4",
      "authorship_tag": "ABX9TyP1c8p/UA4YWf5ZE9zU9Zjw",
      "include_colab_link": true
    },
    "kernelspec": {
      "display_name": "Python 3",
      "name": "python3"
    },
    "language_info": {
      "name": "python"
    },
    "accelerator": "GPU"
  },
  "nbformat": 4,
  "nbformat_minor": 0
}