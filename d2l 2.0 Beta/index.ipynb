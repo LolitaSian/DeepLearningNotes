{
 "cells": [
  {
   "cell_type": "markdown",
   "metadata": {
    "origin_pos": 0
   },
   "source": [
    "《动手学深度学习》\n",
    "========================\n",
    "\n",
    "\n",
    "\n",
    " - [chapter_preface/index](chapter_preface/index.ipynb)\n",
    " - [chapter_installation/index](chapter_installation/index.ipynb)\n",
    " - [chapter_notation/index](chapter_notation/index.ipynb)\n",
    "\n",
    "\n",
    " - [chapter_introduction/index](chapter01_introduction/index.ipynb)\n",
    " - [chapter_preliminaries/index](chapter02_preliminaries/index.ipynb)\n",
    " - [chapter_linear-networks/index](chapter03_linear-networks/index.ipynb)\n",
    " - [chapter_multilayer-perceptrons/index](chapter04_multilayer-perceptrons/index.ipynb)\n",
    " - [chapter_deep-learning-computation/index](chapter05_deep-learning-computation/index.ipynb)\n",
    " - [chapter_convolutional-neural-networks/index](chapter06_convolutional-neural-networks/index.ipynb)\n",
    " - [chapter_convolutional-modern/index](chapter07_convolutional-modern/index.ipynb)\n",
    " - [chapter_recurrent-neural-networks/index](chapter08_recurrent-neural-networks/index.ipynb)\n",
    " - [chapter_recurrent-modern/index](chapter09_recurrent-modern/index.ipynb)\n",
    " - [chapter_attention-mechanisms/index](chapter10_attention-mechanisms/index.ipynb)\n",
    " - [chapter_optimization/index](chapter11_optimization/index.ipynb)\n",
    " - [chapter_computational-performance/index](chapter12_computational-performance/index.ipynb)\n",
    " - [chapter_computer-vision/index](chapter13_computer-vision/index.ipynb)\n",
    " - [chapter_natural-language-processing-pretraining/index](chapter14_natural-language-processing-pretraining/index.ipynb)\n",
    " - [chapter_natural-language-processing-applications/index](chapter15_natural-language-processing-applications/index.ipynb)\n",
    " - [chapter_appendix-tools-for-deep-learning/index](chapter16_appendix-tools-for-deep-learning/index.ipynb)\n",
    "\n",
    "\n",
    " - [chapter_references/zreferences](chapter_references/zreferences.ipynb)\n",
    "\n"
   ]
  },
  {
   "cell_type": "code",
   "execution_count": null,
   "metadata": {},
   "outputs": [],
   "source": []
  }
 ],
 "metadata": {
  "kernelspec": {
   "display_name": "Python 3 (ipykernel)",
   "language": "python",
   "name": "python3"
  },
  "language_info": {
   "codemirror_mode": {
    "name": "ipython",
    "version": 3
   },
   "file_extension": ".py",
   "mimetype": "text/x-python",
   "name": "python",
   "nbconvert_exporter": "python",
   "pygments_lexer": "ipython3",
   "version": "3.8.12"
  }
 },
 "nbformat": 4,
 "nbformat_minor": 4
}
